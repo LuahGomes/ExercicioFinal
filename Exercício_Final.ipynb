{
  "nbformat": 4,
  "nbformat_minor": 0,
  "metadata": {
    "colab": {
      "provenance": [],
      "include_colab_link": true
    },
    "kernelspec": {
      "name": "python3",
      "display_name": "Python 3"
    },
    "language_info": {
      "name": "python"
    }
  },
  "cells": [
    {
      "cell_type": "markdown",
      "metadata": {
        "id": "view-in-github",
        "colab_type": "text"
      },
      "source": [
        "<a href=\"https://colab.research.google.com/github/LuahGomes/ExercicioFinal/blob/main/Exerc%C3%ADcio_Final.ipynb\" target=\"_parent\"><img src=\"https://colab.research.google.com/assets/colab-badge.svg\" alt=\"Open In Colab\"/></a>"
      ]
    },
    {
      "cell_type": "markdown",
      "source": [
        "# Contagem de Medalhas\n",
        "\n",
        "Crie um programa que receba o número de medalhas de ouro, prata e bronze de um país nas Olimpíadas e calcule o total de medalhas.\n",
        "Quando escrever 'sair', o programa deverá encerrar e mostrar na tela o ranking de medalhas no formato:"
      ],
      "metadata": {
        "id": "RQN1e5FZY6SZ"
      }
    },
    {
      "cell_type": "code",
      "source": [
        "#Ranking de medalhas:\n",
        "#Brasil: 7 medalhas\n",
        "#França: 6 medalhas\n",
        "#Argentina: 3 medalhas"
      ],
      "metadata": {
        "id": "gCq_KLHzZSzb"
      },
      "execution_count": null,
      "outputs": []
    },
    {
      "cell_type": "code",
      "execution_count": 1,
      "metadata": {
        "id": "AJJhjxiPTd5s",
        "outputId": "5f432bad-a351-4f59-95c4-2e351766af7b",
        "colab": {
          "base_uri": "https://localhost:8080/"
        }
      },
      "outputs": [
        {
          "name": "stdout",
          "output_type": "stream",
          "text": [
            "Digite o nome do país (ou 'sair' para encerrar: brasil\n",
            "Digite o número de medalhas de ouro: 10\n",
            "Digite o número de medalhas de prata: 10\n",
            "Digite o número de medalhas de bronze: 10\n",
            "Digite o nome do país (ou 'sair' para encerrar: sair\n"
          ]
        }
      ],
      "source": [
        "pais = input(\"Digite o nome do país (ou 'sair' para encerrar: \")\n",
        "\n",
        "paises = []\n",
        "total_de_medalhas = 0\n",
        "medalhas = []\n",
        "hanking = []\n",
        "\n",
        "while pais != \"sair\":\n",
        "    ouro = input(\"Digite o número de medalhas de ouro: \")\n",
        "    prata = input(\"Digite o número de medalhas de prata: \")\n",
        "    bronze = input(\"Digite o número de medalhas de bronze: \")\n",
        "    total_de_medalhas = ouro + prata + bronze\n",
        "\n",
        "    paises.append(pais)\n",
        "\n",
        "    pais = input(\"Digite o nome do país (ou 'sair' para encerrar: \")\n",
        "\n",
        "for i in paises:\n",
        "    hanking.append(f\"{i} : {total_de_medalhas} medalhas\")\n",
        "\n",
        "print = (hanking)"
      ]
    }
  ]
}